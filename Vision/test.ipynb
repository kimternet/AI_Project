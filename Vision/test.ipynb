{
 "cells": [
  {
   "cell_type": "code",
   "execution_count": null,
   "metadata": {},
   "outputs": [],
   "source": [
    "import cv2\n",
    "import matplotlib.pyplot as plt\n",
    "from ultralytics import YOLO\n",
    "\n",
    "# 모델 로드\n",
    "model = YOLO('path/to/your/best.pt')\n",
    "\n",
    "# 테스트할 이미지 경로\n",
    "image_path = 'path/to/your/test_image.jpg'\n",
    "\n",
    "# 이미지 로드\n",
    "image = cv2.imread(image_path)\n",
    "image_rgb = cv2.cvtColor(image, cv2.COLOR_BGR2RGB)\n",
    "\n",
    "# 예측\n",
    "results = model(image_rgb)\n",
    "\n",
    "# 결과 시각화\n",
    "for result in results:\n",
    "    boxes = result.boxes.xyxy.numpy()  # 예측된 bounding box 좌표\n",
    "    labels = result.names  # 예측된 클래스 레이블\n",
    "    for box, label in zip(boxes, labels):\n",
    "        x1, y1, x2, y2 = map(int, box)\n",
    "        cv2.rectangle(image_rgb, (x1, y1), (x2, y2), (255, 0, 0), 2)\n",
    "        cv2.putText(image_rgb, label, (x1, y1 - 10), cv2.FONT_HERSHEY_SIMPLEX, 0.9, (255, 0, 0), 2)\n",
    "\n",
    "# 시각화\n",
    "plt.figure(figsize=(10, 10))\n",
    "plt.imshow(image_rgb)\n",
    "plt.axis('off')\n",
    "plt.show()"
   ]
  }
 ],
 "metadata": {
  "language_info": {
   "name": "python"
  }
 },
 "nbformat": 4,
 "nbformat_minor": 2
}
